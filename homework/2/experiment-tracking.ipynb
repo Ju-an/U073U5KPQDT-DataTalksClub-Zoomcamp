{
 "cells": [
  {
   "cell_type": "code",
   "execution_count": 2,
   "metadata": {},
   "outputs": [
    {
     "name": "stdout",
     "output_type": "stream",
     "text": [
      "mlflow, version 2.13.0\n"
     ]
    }
   ],
   "source": [
    "!mlflow --version"
   ]
  },
  {
   "cell_type": "code",
   "execution_count": 3,
   "metadata": {},
   "outputs": [],
   "source": [
    "!python preprocess_data.py --raw_data_path ./data/ --dest_path ./output"
   ]
  },
  {
   "cell_type": "code",
   "execution_count": 4,
   "metadata": {},
   "outputs": [
    {
     "name": "stderr",
     "output_type": "stream",
     "text": [
      "2024/05/28 19:27:25 INFO mlflow.tracking.fluent: Experiment with name 'nyc-taxi-experiment' does not exist. Creating a new experiment.\n",
      "2024/05/28 19:27:25 WARNING mlflow.utils.autologging_utils: You are using an unsupported version of sklearn. If you encounter errors during autologging, try upgrading / downgrading sklearn to a supported version, or try upgrading MLflow.\n",
      "2024/05/28 19:27:25 INFO mlflow.tracking.fluent: Autologging successfully enabled for sklearn.\n",
      "2024/05/28 19:27:26 WARNING mlflow.sklearn: Failed to log training dataset information to MLflow Tracking. Reason: 'numpy.ndarray' object has no attribute 'toarray'\n",
      "2024/05/28 19:27:42 WARNING mlflow.utils.autologging_utils: MLflow autologging encountered a warning: \"g:\\Downloads\\U073U5KPQDT-DataTalksClub-Zoomcamp\\homework\\2\\Lib\\site-packages\\_distutils_hack\\__init__.py:26: UserWarning: Setuptools is replacing distutils.\"\n",
      "g:\\Downloads\\U073U5KPQDT-DataTalksClub-Zoomcamp\\homework\\2\\Lib\\site-packages\\sklearn\\metrics\\_regression.py:492: FutureWarning: 'squared' is deprecated in version 1.4 and will be removed in 1.6. To calculate the root mean squared error, use the function'root_mean_squared_error'.\n",
      "  warnings.warn(\n"
     ]
    }
   ],
   "source": [
    "# mlflow ui --backend-store-uri sqlite:///mlflow.db\n",
    "!python train.py"
   ]
  },
  {
   "cell_type": "code",
   "execution_count": 5,
   "metadata": {},
   "outputs": [],
   "source": [
    "# mlflow server --backend-store-uri sqlite:///mlflow.db --default-artifact-root ./mlruns"
   ]
  },
  {
   "cell_type": "code",
   "execution_count": 6,
   "metadata": {},
   "outputs": [
    {
     "name": "stdout",
     "output_type": "stream",
     "text": [
      "\n",
      "  0%|          | 0/15 [00:00<?, ?trial/s, best loss=?]\n",
      "  7%|▋         | 1/15 [00:08<02:04,  8.86s/trial, best loss: 5.370086069268862]\n",
      " 13%|█▎        | 2/15 [00:09<00:50,  3.89s/trial, best loss: 5.370086069268862]\n",
      " 20%|██        | 3/15 [00:09<00:28,  2.38s/trial, best loss: 5.370086069268862]\n",
      " 27%|██▋       | 4/15 [00:15<00:41,  3.81s/trial, best loss: 5.357490752366866]\n",
      " 33%|███▎      | 5/15 [00:18<00:35,  3.52s/trial, best loss: 5.357490752366866]\n",
      " 40%|████      | 6/15 [00:31<00:59,  6.60s/trial, best loss: 5.354695072530291]\n",
      " 47%|████▋     | 7/15 [00:44<01:10,  8.76s/trial, best loss: 5.354695072530291]\n",
      " 53%|█████▎    | 8/15 [00:46<00:44,  6.41s/trial, best loss: 5.354695072530291]\n",
      " 60%|██████    | 9/15 [00:55<00:44,  7.38s/trial, best loss: 5.354695072530291]\n",
      " 67%|██████▋   | 10/15 [01:02<00:36,  7.35s/trial, best loss: 5.354695072530291]\n",
      " 73%|███████▎  | 11/15 [01:09<00:27,  6.99s/trial, best loss: 5.335419588556921]\n",
      " 80%|████████  | 12/15 [01:13<00:18,  6.18s/trial, best loss: 5.335419588556921]\n",
      " 87%|████████▋ | 13/15 [01:14<00:09,  4.75s/trial, best loss: 5.335419588556921]\n",
      " 93%|█████████▎| 14/15 [01:20<00:04,  4.94s/trial, best loss: 5.335419588556921]\n",
      "100%|██████████| 15/15 [01:28<00:00,  6.10s/trial, best loss: 5.335419588556921]\n",
      "100%|██████████| 15/15 [01:28<00:00,  5.93s/trial, best loss: 5.335419588556921]\n"
     ]
    },
    {
     "name": "stderr",
     "output_type": "stream",
     "text": [
      "2024/05/28 19:27:49 INFO mlflow.tracking.fluent: Experiment with name 'random-forest-hyperopt' does not exist. Creating a new experiment.\n",
      "g:\\Downloads\\U073U5KPQDT-DataTalksClub-Zoomcamp\\homework\\2\\Lib\\site-packages\\sklearn\\metrics\\_regression.py:492: FutureWarning: 'squared' is deprecated in version 1.4 and will be removed in 1.6. To calculate the root mean squared error, use the function'root_mean_squared_error'.\n",
      "  warnings.warn(\n",
      "\n",
      "g:\\Downloads\\U073U5KPQDT-DataTalksClub-Zoomcamp\\homework\\2\\Lib\\site-packages\\sklearn\\metrics\\_regression.py:492: FutureWarning: 'squared' is deprecated in version 1.4 and will be removed in 1.6. To calculate the root mean squared error, use the function'root_mean_squared_error'.\n",
      "  warnings.warn(\n",
      "\n",
      "g:\\Downloads\\U073U5KPQDT-DataTalksClub-Zoomcamp\\homework\\2\\Lib\\site-packages\\sklearn\\metrics\\_regression.py:492: FutureWarning: 'squared' is deprecated in version 1.4 and will be removed in 1.6. To calculate the root mean squared error, use the function'root_mean_squared_error'.\n",
      "  warnings.warn(\n",
      "\n",
      "g:\\Downloads\\U073U5KPQDT-DataTalksClub-Zoomcamp\\homework\\2\\Lib\\site-packages\\sklearn\\metrics\\_regression.py:492: FutureWarning: 'squared' is deprecated in version 1.4 and will be removed in 1.6. To calculate the root mean squared error, use the function'root_mean_squared_error'.\n",
      "  warnings.warn(\n",
      "\n",
      "g:\\Downloads\\U073U5KPQDT-DataTalksClub-Zoomcamp\\homework\\2\\Lib\\site-packages\\sklearn\\metrics\\_regression.py:492: FutureWarning: 'squared' is deprecated in version 1.4 and will be removed in 1.6. To calculate the root mean squared error, use the function'root_mean_squared_error'.\n",
      "  warnings.warn(\n",
      "\n",
      "g:\\Downloads\\U073U5KPQDT-DataTalksClub-Zoomcamp\\homework\\2\\Lib\\site-packages\\sklearn\\metrics\\_regression.py:492: FutureWarning: 'squared' is deprecated in version 1.4 and will be removed in 1.6. To calculate the root mean squared error, use the function'root_mean_squared_error'.\n",
      "  warnings.warn(\n",
      "\n",
      "g:\\Downloads\\U073U5KPQDT-DataTalksClub-Zoomcamp\\homework\\2\\Lib\\site-packages\\sklearn\\metrics\\_regression.py:492: FutureWarning: 'squared' is deprecated in version 1.4 and will be removed in 1.6. To calculate the root mean squared error, use the function'root_mean_squared_error'.\n",
      "  warnings.warn(\n",
      "\n",
      "g:\\Downloads\\U073U5KPQDT-DataTalksClub-Zoomcamp\\homework\\2\\Lib\\site-packages\\sklearn\\metrics\\_regression.py:492: FutureWarning: 'squared' is deprecated in version 1.4 and will be removed in 1.6. To calculate the root mean squared error, use the function'root_mean_squared_error'.\n",
      "  warnings.warn(\n",
      "\n",
      "g:\\Downloads\\U073U5KPQDT-DataTalksClub-Zoomcamp\\homework\\2\\Lib\\site-packages\\sklearn\\metrics\\_regression.py:492: FutureWarning: 'squared' is deprecated in version 1.4 and will be removed in 1.6. To calculate the root mean squared error, use the function'root_mean_squared_error'.\n",
      "  warnings.warn(\n",
      "\n",
      "g:\\Downloads\\U073U5KPQDT-DataTalksClub-Zoomcamp\\homework\\2\\Lib\\site-packages\\sklearn\\metrics\\_regression.py:492: FutureWarning: 'squared' is deprecated in version 1.4 and will be removed in 1.6. To calculate the root mean squared error, use the function'root_mean_squared_error'.\n",
      "  warnings.warn(\n",
      "\n",
      "g:\\Downloads\\U073U5KPQDT-DataTalksClub-Zoomcamp\\homework\\2\\Lib\\site-packages\\sklearn\\metrics\\_regression.py:492: FutureWarning: 'squared' is deprecated in version 1.4 and will be removed in 1.6. To calculate the root mean squared error, use the function'root_mean_squared_error'.\n",
      "  warnings.warn(\n",
      "\n",
      "g:\\Downloads\\U073U5KPQDT-DataTalksClub-Zoomcamp\\homework\\2\\Lib\\site-packages\\sklearn\\metrics\\_regression.py:492: FutureWarning: 'squared' is deprecated in version 1.4 and will be removed in 1.6. To calculate the root mean squared error, use the function'root_mean_squared_error'.\n",
      "  warnings.warn(\n",
      "\n",
      "g:\\Downloads\\U073U5KPQDT-DataTalksClub-Zoomcamp\\homework\\2\\Lib\\site-packages\\sklearn\\metrics\\_regression.py:492: FutureWarning: 'squared' is deprecated in version 1.4 and will be removed in 1.6. To calculate the root mean squared error, use the function'root_mean_squared_error'.\n",
      "  warnings.warn(\n",
      "\n",
      "g:\\Downloads\\U073U5KPQDT-DataTalksClub-Zoomcamp\\homework\\2\\Lib\\site-packages\\sklearn\\metrics\\_regression.py:492: FutureWarning: 'squared' is deprecated in version 1.4 and will be removed in 1.6. To calculate the root mean squared error, use the function'root_mean_squared_error'.\n",
      "  warnings.warn(\n",
      "\n",
      "g:\\Downloads\\U073U5KPQDT-DataTalksClub-Zoomcamp\\homework\\2\\Lib\\site-packages\\sklearn\\metrics\\_regression.py:492: FutureWarning: 'squared' is deprecated in version 1.4 and will be removed in 1.6. To calculate the root mean squared error, use the function'root_mean_squared_error'.\n",
      "  warnings.warn(\n",
      "\n"
     ]
    }
   ],
   "source": [
    "!python hpo.py"
   ]
  },
  {
   "cell_type": "code",
   "execution_count": 10,
   "metadata": {},
   "outputs": [
    {
     "name": "stdout",
     "output_type": "stream",
     "text": [
      "5.5941605655803635\n"
     ]
    },
    {
     "name": "stderr",
     "output_type": "stream",
     "text": [
      "2024/05/28 21:39:15 WARNING mlflow.utils.autologging_utils: You are using an unsupported version of sklearn. If you encounter errors during autologging, try upgrading / downgrading sklearn to a supported version, or try upgrading MLflow.\n",
      "2024/05/28 21:39:16 WARNING mlflow.sklearn: Failed to log training dataset information to MLflow Tracking. Reason: 'numpy.ndarray' object has no attribute 'toarray'\n",
      "2024/05/28 21:39:23 WARNING mlflow.utils.autologging_utils: MLflow autologging encountered a warning: \"g:\\Downloads\\U073U5KPQDT-DataTalksClub-Zoomcamp\\homework\\2\\Lib\\site-packages\\_distutils_hack\\__init__.py:26: UserWarning: Setuptools is replacing distutils.\"\n",
      "g:\\Downloads\\U073U5KPQDT-DataTalksClub-Zoomcamp\\homework\\2\\Lib\\site-packages\\sklearn\\metrics\\_regression.py:492: FutureWarning: 'squared' is deprecated in version 1.4 and will be removed in 1.6. To calculate the root mean squared error, use the function'root_mean_squared_error'.\n",
      "  warnings.warn(\n",
      "g:\\Downloads\\U073U5KPQDT-DataTalksClub-Zoomcamp\\homework\\2\\Lib\\site-packages\\sklearn\\metrics\\_regression.py:492: FutureWarning: 'squared' is deprecated in version 1.4 and will be removed in 1.6. To calculate the root mean squared error, use the function'root_mean_squared_error'.\n",
      "  warnings.warn(\n",
      "2024/05/28 21:39:27 WARNING mlflow.sklearn: Failed to log training dataset information to MLflow Tracking. Reason: 'numpy.ndarray' object has no attribute 'toarray'\n",
      "g:\\Downloads\\U073U5KPQDT-DataTalksClub-Zoomcamp\\homework\\2\\Lib\\site-packages\\sklearn\\metrics\\_regression.py:492: FutureWarning: 'squared' is deprecated in version 1.4 and will be removed in 1.6. To calculate the root mean squared error, use the function'root_mean_squared_error'.\n",
      "  warnings.warn(\n",
      "g:\\Downloads\\U073U5KPQDT-DataTalksClub-Zoomcamp\\homework\\2\\Lib\\site-packages\\sklearn\\metrics\\_regression.py:492: FutureWarning: 'squared' is deprecated in version 1.4 and will be removed in 1.6. To calculate the root mean squared error, use the function'root_mean_squared_error'.\n",
      "  warnings.warn(\n",
      "2024/05/28 21:39:44 WARNING mlflow.sklearn: Failed to log training dataset information to MLflow Tracking. Reason: 'numpy.ndarray' object has no attribute 'toarray'\n",
      "g:\\Downloads\\U073U5KPQDT-DataTalksClub-Zoomcamp\\homework\\2\\Lib\\site-packages\\sklearn\\metrics\\_regression.py:492: FutureWarning: 'squared' is deprecated in version 1.4 and will be removed in 1.6. To calculate the root mean squared error, use the function'root_mean_squared_error'.\n",
      "  warnings.warn(\n",
      "g:\\Downloads\\U073U5KPQDT-DataTalksClub-Zoomcamp\\homework\\2\\Lib\\site-packages\\sklearn\\metrics\\_regression.py:492: FutureWarning: 'squared' is deprecated in version 1.4 and will be removed in 1.6. To calculate the root mean squared error, use the function'root_mean_squared_error'.\n",
      "  warnings.warn(\n",
      "2024/05/28 21:39:56 WARNING mlflow.sklearn: Failed to log training dataset information to MLflow Tracking. Reason: 'numpy.ndarray' object has no attribute 'toarray'\n",
      "g:\\Downloads\\U073U5KPQDT-DataTalksClub-Zoomcamp\\homework\\2\\Lib\\site-packages\\sklearn\\metrics\\_regression.py:492: FutureWarning: 'squared' is deprecated in version 1.4 and will be removed in 1.6. To calculate the root mean squared error, use the function'root_mean_squared_error'.\n",
      "  warnings.warn(\n",
      "g:\\Downloads\\U073U5KPQDT-DataTalksClub-Zoomcamp\\homework\\2\\Lib\\site-packages\\sklearn\\metrics\\_regression.py:492: FutureWarning: 'squared' is deprecated in version 1.4 and will be removed in 1.6. To calculate the root mean squared error, use the function'root_mean_squared_error'.\n",
      "  warnings.warn(\n",
      "2024/05/28 21:40:08 WARNING mlflow.sklearn: Failed to log training dataset information to MLflow Tracking. Reason: 'numpy.ndarray' object has no attribute 'toarray'\n",
      "g:\\Downloads\\U073U5KPQDT-DataTalksClub-Zoomcamp\\homework\\2\\Lib\\site-packages\\sklearn\\metrics\\_regression.py:492: FutureWarning: 'squared' is deprecated in version 1.4 and will be removed in 1.6. To calculate the root mean squared error, use the function'root_mean_squared_error'.\n",
      "  warnings.warn(\n",
      "g:\\Downloads\\U073U5KPQDT-DataTalksClub-Zoomcamp\\homework\\2\\Lib\\site-packages\\sklearn\\metrics\\_regression.py:492: FutureWarning: 'squared' is deprecated in version 1.4 and will be removed in 1.6. To calculate the root mean squared error, use the function'root_mean_squared_error'.\n",
      "  warnings.warn(\n",
      "Registered model 'nyc-taxi-regressor' already exists. Creating a new version of this model...\n",
      "2024/05/28 21:40:20 INFO mlflow.store.model_registry.abstract_store: Waiting up to 300 seconds for model version to finish creation. Model name: nyc-taxi-regressor, version 3\n",
      "Created version '3' of model 'nyc-taxi-regressor'.\n"
     ]
    }
   ],
   "source": [
    "!python register_model.py"
   ]
  }
 ],
 "metadata": {
  "kernelspec": {
   "display_name": "2",
   "language": "python",
   "name": "python3"
  },
  "language_info": {
   "codemirror_mode": {
    "name": "ipython",
    "version": 3
   },
   "file_extension": ".py",
   "mimetype": "text/x-python",
   "name": "python",
   "nbconvert_exporter": "python",
   "pygments_lexer": "ipython3",
   "version": "3.11.9"
  }
 },
 "nbformat": 4,
 "nbformat_minor": 2
}
